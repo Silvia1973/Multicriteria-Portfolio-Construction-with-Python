{
 "cells": [
  {
   "cell_type": "markdown",
   "metadata": {},
   "source": [
    "## MOIP PROMETHEE flow 3-Dimensional Model\n",
    "\n",
    "In this paragraph there is a presentation of the 3-Dimensional model involving the PROMETHEE flow. The 3 objective function will be the portfolio beta index, the portfolio dividend yield and the PROMETHEE flow. The input data for this method are the beta indexes, the PROMETHEE net flows and the dividend yield of each security:"
   ]
  },
  {
   "cell_type": "code",
   "execution_count": 1,
   "metadata": {},
   "outputs": [
    {
     "name": "stdout",
     "output_type": "stream",
     "text": [
      "Using Python-MIP package version 1.6.2\n"
     ]
    }
   ],
   "source": [
    "from mip import *\n",
    "import pandas as pd\n",
    "import numpy as np\n",
    "import matplotlib.pyplot as plt\n",
    "from matplotlib import rc\n",
    "rc('font', **{'family': 'serif', 'serif': ['Computer Modern']})\n",
    "rc('text', usetex=True)\n",
    "\n",
    "\n",
    "numSecurities = 6\n",
    "companyName = ['ACN', 'NOC', 'IBM', 'MSI', 'MSCI', 'ORA']\n",
    "betaIndex = [0.8, 1.36, 0.59, 1.12, 1.05, 1.15]\n",
    "Rev = [32.89, 77.86, 7.63, 1.48, 43.22, 39.53]\n",
    "DYIndex = [1.44, 4.59, 1.33, 1.22, 1.74, 1.76]\n",
    "promIndex = [0.3078, -0.0306, 0.0558, -0.0849, -0.1289, -0.1191]"
   ]
  },
  {
   "cell_type": "markdown",
   "metadata": {},
   "source": [
    "### Model Parameters\n",
    "\n",
    "The model contains the following parameters:\n",
    "\n",
    "* minSecurities : Minimum number of securities to participate in each portfolio. <br> \n",
    "* maxSecurities : Maximum number of securities to participate in each portfolio. <br>\n",
    "* lowerBound : Minimum value of the weight of each security. <br>\n",
    "* upperBound : Maximum value of the weight of each security. <br>"
   ]
  },
  {
   "cell_type": "code",
   "execution_count": 2,
   "metadata": {},
   "outputs": [],
   "source": [
    "minSecurities = 6\n",
    "maxSecurities = 10\n",
    "lowerBound = 0.05\n",
    "upperBound = 0.3"
   ]
  },
  {
   "cell_type": "markdown",
   "metadata": {},
   "source": [
    "### Determination of the objectives target values\n",
    "\n",
    "We solve the 1-objective optimisation problem for each one of the objective functions, in order to find their target values. Firstly, we solve the problem of minimising the portfolio beta."
   ]
  },
  {
   "cell_type": "code",
   "execution_count": 3,
   "metadata": {},
   "outputs": [
    {
     "name": "stdout",
     "output_type": "stream",
     "text": [
      "OptimizationStatus.OPTIMAL \n",
      "\n",
      "Minimum Beta =  0.861 \n",
      "\n"
     ]
    }
   ],
   "source": [
    "m = Model()\n",
    "\n",
    "onoff = [ m.add_var(var_type=BINARY) for i in range(numSecurities) ]\n",
    "weights = [ m.add_var(var_type=CONTINUOUS) for i in range(numSecurities) ]\n",
    "\n",
    "m += xsum(weights[i] for i in range(numSecurities)) == 1\n",
    "m += xsum(onoff[i] for i in range(numSecurities)) <= maxSecurities\n",
    "m += xsum(onoff[i] for i in range(numSecurities)) >= minSecurities\n",
    "for i in range(numSecurities):\n",
    "    m += weights[i] - lowerBound * onoff[i] >= 0\n",
    "    m += weights[i] - upperBound * onoff[i] <= 0   \n",
    "\n",
    "m.objective = minimize(xsum(weights[i] * betaIndex[i] for i in range(numSecurities))) \n",
    "\n",
    "status = m.optimize()\n",
    "\n",
    "print(status, \"\\n\")\n",
    "minBeta = m.objective_value\n",
    "print(\"Minimum Beta = \", minBeta, \"\\n\")"
   ]
  },
  {
   "cell_type": "markdown",
   "metadata": {},
   "source": [
    "Secondly, we solve the maximisation problem of the PROMETHEE flow function."
   ]
  },
  {
   "cell_type": "code",
   "execution_count": 4,
   "metadata": {},
   "outputs": [
    {
     "name": "stdout",
     "output_type": "stream",
     "text": [
      "OptimizationStatus.OPTIMAL \n",
      "\n",
      "Maximum PROMETHEE flow =  0.084785 \n",
      "\n"
     ]
    }
   ],
   "source": [
    "m = Model()\n",
    "\n",
    "onoff = [ m.add_var(var_type=BINARY) for i in range(numSecurities) ]\n",
    "weights = [ m.add_var(var_type=CONTINUOUS) for i in range(numSecurities) ]\n",
    "\n",
    "m += xsum(weights[i] for i in range(numSecurities)) == 1\n",
    "m += xsum(onoff[i] for i in range(numSecurities)) <= maxSecurities\n",
    "m += xsum(onoff[i] for i in range(numSecurities)) >= minSecurities\n",
    "for i in range(numSecurities):\n",
    "    m += weights[i] - lowerBound * onoff[i] >= 0\n",
    "    m += weights[i] - upperBound * onoff[i] <= 0   \n",
    "\n",
    "m.objective = maximize(xsum(weights[i] * promIndex[i] for i in range(numSecurities))) \n",
    "\n",
    "status = m.optimize()\n",
    "\n",
    "print(status, \"\\n\")\n",
    "maxProm = m.objective_value\n",
    "print(\"Maximum PROMETHEE flow = \", maxProm, \"\\n\")"
   ]
  },
  {
   "cell_type": "markdown",
   "metadata": {},
   "source": [
    "Finally, we solve the problem of maximising the portfolio dividend yield."
   ]
  },
  {
   "cell_type": "code",
   "execution_count": 5,
   "metadata": {},
   "outputs": [
    {
     "name": "stdout",
     "output_type": "stream",
     "text": [
      "OptimizationStatus.OPTIMAL \n",
      "\n",
      "Maximum DY =  2.5395 \n",
      "\n"
     ]
    }
   ],
   "source": [
    "m = Model()\n",
    "\n",
    "onoff = [ m.add_var(var_type=BINARY) for i in range(numSecurities) ]\n",
    "weights = [ m.add_var(var_type=CONTINUOUS) for i in range(numSecurities) ]\n",
    "\n",
    "m += xsum(weights[i] for i in range(numSecurities)) == 1\n",
    "m += xsum(onoff[i] for i in range(numSecurities)) <= maxSecurities\n",
    "m += xsum(onoff[i] for i in range(numSecurities)) >= minSecurities\n",
    "for i in range(numSecurities):\n",
    "    m += weights[i] - lowerBound * onoff[i] >= 0\n",
    "    m += weights[i] - upperBound * onoff[i] <= 0   \n",
    "\n",
    "m.objective = maximize(xsum(weights[i] * DYIndex[i] for i in range(numSecurities))) \n",
    "\n",
    "status = m.optimize()\n",
    "\n",
    "print(status, \"\\n\")\n",
    "maxDY = m.objective_value\n",
    "print(\"Maximum DY = \", maxDY, \"\\n\")"
   ]
  },
  {
   "cell_type": "markdown",
   "metadata": {},
   "source": [
    "### Minimax objective Optimisation Problem\n",
    "\n",
    "In the following cell we set the final problem as a goal programming optimisation problem with the minimax objective. The results for a random selection of offsets is presented below:"
   ]
  },
  {
   "cell_type": "code",
   "execution_count": 6,
   "metadata": {},
   "outputs": [
    {
     "name": "stdout",
     "output_type": "stream",
     "text": [
      "OptimizationStatus.OPTIMAL \n",
      "\n",
      "Q =  0.03350039947771772 \n",
      "\n",
      "ACN :  0.2805866288365215\n",
      "NOC :  0.3\n",
      "IBM :  0.16550896312890123\n",
      "MSI :  0.049999999999999996\n",
      "MSCI :  0.15390440803457714\n",
      "ORA :  0.05\n",
      "\n",
      "Portfolio beta =  1.005219219751575\n",
      "Portfolio PROMETHEE flow =  0.056381686302817036\n",
      "Portfolio DY =  2.417965336466194\n"
     ]
    },
    {
     "data": {
      "image/png": "[encoded data removed]",
      "text/plain": [
       "<Figure size 1152x648 with 1 Axes>"
      ]
     },
     "metadata": {
      "needs_background": "light"
     },
     "output_type": "display_data"
    }
   ],
   "source": [
    "m = Model()\n",
    "\n",
    "w1 = 0.2\n",
    "w2 = 0.1\n",
    "w3 = 0.7\n",
    "\n",
    "onoff = [ m.add_var(var_type=BINARY) for i in range(numSecurities) ]\n",
    "weights = [ m.add_var(var_type=CONTINUOUS) for i in range(numSecurities) ]\n",
    "Q = m.add_var(var_type=CONTINUOUS)\n",
    "\n",
    "m += xsum(weights[i] for i in range(numSecurities)) == 1\n",
    "m += xsum(onoff[i] for i in range(numSecurities)) <= maxSecurities\n",
    "m += xsum(onoff[i] for i in range(numSecurities)) >= minSecurities\n",
    "for i in range(numSecurities):\n",
    "    m += weights[i] - lowerBound * onoff[i] >= 0\n",
    "    m += weights[i] - upperBound * onoff[i] <= 0   \n",
    "    \n",
    "m += w1 * ((xsum(weights[i] * betaIndex[i] for i in range(numSecurities))) - minBeta) / minBeta <= Q\n",
    "m += w2 * (maxProm - (xsum(weights[i] * promIndex[i] for i in range(numSecurities)))) / maxProm <= Q\n",
    "m += w3 * (maxDY - (xsum(weights[i] * DYIndex[i] for i in range(numSecurities)))) / maxDY <= Q\n",
    "\n",
    "\n",
    "m.objective = minimize(Q) \n",
    "\n",
    "status = m.optimize()\n",
    "\n",
    "print(status, \"\\n\")\n",
    "minQ = m.objective_value\n",
    "print(\"Q = \", minQ, \"\\n\")\n",
    "\n",
    "for i in range(numSecurities):\n",
    "    print(companyName[i],\": \", weights[i].x * onoff[i].x)\n",
    "print()\n",
    "\n",
    "print(\"Portfolio beta = \", sum(weights[i].x * betaIndex[i] for i in range(numSecurities)))\n",
    "print(\"Portfolio PROMETHEE flow = \", sum(weights[i].x * promIndex[i] for i in range(numSecurities)))\n",
    "print(\"Portfolio DY = \", sum(weights[i].x * DYIndex[i] for i in range(numSecurities)))\n",
    "\n",
    "plt.figure(figsize=(16,9))\n",
    "for i in range(numSecurities):\n",
    "    plt.bar(companyName[i], weights[i].x, color = 'lightblue', edgecolor = 'black', width=0.6)\n",
    "plt.xlabel(r\"Securities\", fontsize=22)\n",
    "plt.ylabel(r\"Portfolio Percentage\", fontsize=22)\n",
    "plt.title(r\"PROMETHEE Flow Portfolio\", fontsize=28)\n",
    "plt.xticks(fontsize=18, rotation=0)\n",
    "plt.savefig(\"barplot14.png\", dpi=300)"
   ]
  }
 ],
 "metadata": {
  "kernelspec": {
   "display_name": "Python 3",
   "language": "python",
   "name": "python3"
  },
  "language_info": {
   "codemirror_mode": {
    "name": "ipython",
    "version": 3
   },
   "file_extension": ".py",
   "mimetype": "text/x-python",
   "name": "python",
   "nbconvert_exporter": "python",
   "pygments_lexer": "ipython3",
   "version": "3.7.4"
  }
 },
 "nbformat": 4,
 "nbformat_minor": 2
}
