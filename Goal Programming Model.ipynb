{
 "cells": [
  {
   "cell_type": "markdown",
   "metadata": {},
   "source": [
    "# Goal Programming methodology \n",
    "\n"
   ]
  },
  {
   "cell_type": "code",
   "execution_count": 1,
   "metadata": {},
   "outputs": [
    {
     "name": "stdout",
     "output_type": "stream",
     "text": [
      "Using Python-MIP package version 1.6.2\n"
     ]
    }
   ],
   "source": [
    "from mip import *\n",
    "import pandas as pd\n",
    "import numpy as np\n",
    "import matplotlib.pyplot as plt\n",
    "from pandas_datareader import data\n",
    "from matplotlib import rc\n",
    "rc('font', **{'family': 'serif', 'serif': ['Computer Modern']})\n",
    "rc('text', usetex=True)"
   ]
  },
  {
   "cell_type": "markdown",
   "metadata": {},
   "source": [
    "## Input\n",
    "\n",
    "The input of this method includes the following variables:\n",
    "\n",
    "* numSecurities (integer) is the number of securities, <br>\n",
    "* companyName (str list) contains the names of the securities, <br>\n",
    "* betaIndex (float list) contains the beta index for each security, <br>\n",
    "* DYIndex (float list) contains the dividend yield for each security."
   ]
  },
  {
   "cell_type": "code",
   "execution_count": 2,
   "metadata": {},
   "outputs": [],
   "source": [
    "numSecurities = 6\n",
    "companyName = ['ACN', 'NOC', 'IBM', 'MSI', 'MSCI', 'ORA']\n",
    "betaIndex = [0.8, 1.36, 0.59, 1.12, 1.05, 1.15]\n",
    "Rev = [32.89, 77.86, 7.63, 1.48, 43.22, 39.53]\n",
    "DYIndex = [1.44, 4.59, 1.33, 1.22, 1.74, 1.76]"
   ]
  },
  {
   "cell_type": "markdown",
   "metadata": {},
   "source": [
    "## Model Parameters\n",
    "\n",
    "The parameters of the model are defined below:\n",
    "\n",
    "* numPortfolios : Number of portfolios to be constructed. <br>\n",
    "* minSecurities : Minimum number of securities to participate in each portfolio. <br> \n",
    "* maxSecurities : Maximum number of securities to participate in each portfolio. <br>\n",
    "* lowerBound : Minimum value of the weight of each security. <br>\n",
    "* upperBound : Maximum value of the weight of each security. <br>\n",
    "* capitalThreshold : Threshold that determines the Billions needed to consider a security as a high capitalisation investment\n",
    "\n",
    "The target values of the goal programming model are set as follows:\n",
    "\n",
    "* betaGoal : The target value for portfolio beta\n",
    "* DYGoal : The target value for portfolio Dividend Yield\n",
    "* highCapGoal : The target value for the percentage of high capitalisation securities participating in the portfolio"
   ]
  },
  {
   "cell_type": "code",
   "execution_count": 3,
   "metadata": {},
   "outputs": [],
   "source": [
    "minSecurities = 5\n",
    "maxSecurities = 6\n",
    "lowerBound = 0.1\n",
    "upperBound = 0.5\n",
    "betaGoal = 0.8\n",
    "DYGoal = 1.7\n",
    "highCapGoal = 0.5\n",
    "capitalThreshold = 40"
   ]
  },
  {
   "cell_type": "markdown",
   "metadata": {},
   "source": [
    "The model is constructed below:"
   ]
  },
  {
   "cell_type": "code",
   "execution_count": 4,
   "metadata": {},
   "outputs": [
    {
     "name": "stdout",
     "output_type": "stream",
     "text": [
      "=================  Model output  ================= \n",
      "Solution status :  OptimizationStatus.OPTIMAL \n",
      "\n",
      "Objective function =  0.2268382352941175 \n",
      "\n",
      "ACN :  0.09999999999999999\n",
      "NOC :  0.1\n",
      "IBM :  0.29999999999999993\n",
      "MSI :  0.10000000000000002\n",
      "MSCI :  0.4000000000000001\n",
      "ORA :  0.0\n",
      "\n",
      "Portfolio beta =  0.925\n",
      "Portfolio dividend yield =  1.82\n",
      "High capitalisation percentage 0.5000000000000001\n"
     ]
    },
    {
     "data": {
      "image/png": "[encoded data removed]",
      "text/plain": [
       "<Figure size 1152x648 with 1 Axes>"
      ]
     },
     "metadata": {
      "needs_background": "light"
     },
     "output_type": "display_data"
    }
   ],
   "source": [
    "m = Model()\n",
    "\n",
    "high = [0 for i in range(numSecurities)]\n",
    "for i in range(numSecurities):\n",
    "    if Rev[i] > capitalThreshold:\n",
    "        high[i] =1\n",
    "\n",
    "onoff = [ m.add_var(var_type=BINARY) for i in range(numSecurities) ]\n",
    "weights = [ m.add_var(var_type=CONTINUOUS) for i in range(numSecurities) ]\n",
    "\n",
    "d1P = m.add_var(var_type=CONTINUOUS)\n",
    "d1M = m.add_var(var_type=CONTINUOUS)\n",
    "d2P = m.add_var(var_type=CONTINUOUS)\n",
    "d2M = m.add_var(var_type=CONTINUOUS)\n",
    "d3P = m.add_var(var_type=CONTINUOUS)\n",
    "d3M = m.add_var(var_type=CONTINUOUS)\n",
    "\n",
    "w1P = 1\n",
    "w1M = 1\n",
    "w2P = 1\n",
    "w2M = 1\n",
    "w3P = 1\n",
    "w3M = 1\n",
    "\n",
    "m += xsum(weights[i] for i in range(numSecurities)) == 1\n",
    "m += xsum(onoff[i] for i in range(numSecurities)) <= maxSecurities\n",
    "m += xsum(onoff[i] for i in range(numSecurities)) >= minSecurities\n",
    "for i in range(numSecurities):\n",
    "    m += weights[i] - lowerBound * onoff[i] >= 0\n",
    "    m += weights[i] - upperBound * onoff[i] <= 0 \n",
    "\n",
    "m += xsum(weights[i] * betaIndex[i] for i in range(numSecurities)) + d1M - d1P == betaGoal\n",
    "m += xsum(weights[i] * DYIndex[i] for i in range(numSecurities)) + d2M - d2P == DYGoal\n",
    "m += xsum(weights[i] * high[i] for i in range(numSecurities)) + d3M - d3P == highCapGoal\n",
    "\n",
    "m.objective = minimize((w1P * d1P + w1M * d1M) / betaGoal + (w2P * d2P + w2M * d2M) / DYGoal + (w3P * d3P + w3M * d3M) / highCapGoal) \n",
    "\n",
    "status = m.optimize()\n",
    "\n",
    "print(\"=================  Model output  ================= \")\n",
    "\n",
    "print(\"Solution status : \", status, \"\\n\")\n",
    "obj = m.objective_value\n",
    "print(\"Objective function = \", obj, \"\\n\")\n",
    "\n",
    "\n",
    "for i in range(numSecurities):\n",
    "    print(companyName[i],\": \", weights[i].x * onoff[i].x)\n",
    "print()\n",
    "\n",
    "\n",
    "print(\"Portfolio beta = \", sum(weights[i].x * betaIndex[i] for i in range(numSecurities)))\n",
    "print(\"Portfolio dividend yield = \", sum(weights[i].x * DYIndex[i] for i in range(numSecurities)))\n",
    "print(\"High capitalisation percentage\", sum(weights[i].x * high[i] for i in range(numSecurities)))\n",
    "\n",
    "portfolio = [0 for i in range(numSecurities)]\n",
    "for i in range(numSecurities):\n",
    "    portfolio[i] = onoff[i].x * weights[i].x\n",
    "\n",
    "plt.figure(figsize=(16,9))\n",
    "plt.bar(companyName, portfolio, color = 'lightblue', edgecolor = 'black', width=0.6)\n",
    "plt.xlabel(r\"Securities\", fontsize=22)\n",
    "plt.ylabel(r\"Portfolio Percentage\", fontsize=22)\n",
    "plt.title(r\"Goal Programming Portfolio\", fontsize=28)\n",
    "plt.xticks(fontsize=18, rotation=0)\n",
    "plt.savefig(\"barplot12.png\", dpi=300)"
   ]
  }
 ],
 "metadata": {
  "kernelspec": {
   "display_name": "Python 3",
   "language": "python",
   "name": "python3"
  },
  "language_info": {
   "codemirror_mode": {
    "name": "ipython",
    "version": 3
   },
   "file_extension": ".py",
   "mimetype": "text/x-python",
   "name": "python",
   "nbconvert_exporter": "python",
   "pygments_lexer": "ipython3",
   "version": "3.7.4"
  }
 },
 "nbformat": 4,
 "nbformat_minor": 2
}
