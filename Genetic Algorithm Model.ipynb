{
 "cells": [
  {
   "cell_type": "markdown",
   "metadata": {},
   "source": [
    "# Genetic algorithm model"
   ]
  },
  {
   "cell_type": "code",
   "execution_count": 1,
   "metadata": {},
   "outputs": [],
   "source": [
    "import numpy as np\n",
    "import pandas as pd\n",
    "import matplotlib.pyplot as plt\n",
    "import openpyxl \n",
    "from scipy.optimize import differential_evolution\n",
    "from scipy.optimize import LinearConstraint, minimize\n",
    "from pandas_datareader import data\n",
    "from matplotlib import rc\n",
    "rc('font', **{'family': 'serif', 'serif': ['Computer Modern']})\n",
    "rc('text', usetex=True)"
   ]
  },
  {
   "cell_type": "markdown",
   "metadata": {},
   "source": [
    "### Securities Input Data\n",
    "\n",
    "The input data of this model are the names and the values of the securities. The next step involves the calculation of the arithmetic return for the selected securities."
   ]
  },
  {
   "cell_type": "code",
   "execution_count": 2,
   "metadata": {},
   "outputs": [
    {
     "name": "stdout",
     "output_type": "stream",
     "text": [
      "============  Stock Returns  ============ \n",
      "\n"
     ]
    },
    {
     "data": {
      "text/html": [
       "<div>\n",
       "<style scoped>\n",
       "    .dataframe tbody tr th:only-of-type {\n",
       "        vertical-align: middle;\n",
       "    }\n",
       "\n",
       "    .dataframe tbody tr th {\n",
       "        vertical-align: top;\n",
       "    }\n",
       "\n",
       "    .dataframe thead th {\n",
       "        text-align: right;\n",
       "    }\n",
       "</style>\n",
       "<table border=\"1\" class=\"dataframe\">\n",
       "  <thead>\n",
       "    <tr style=\"text-align: right;\">\n",
       "      <th>Symbols</th>\n",
       "      <th>ACN</th>\n",
       "      <th>NOC</th>\n",
       "      <th>IBM</th>\n",
       "      <th>MSI</th>\n",
       "      <th>MSCI</th>\n",
       "      <th>ORA</th>\n",
       "    </tr>\n",
       "    <tr>\n",
       "      <th>Date</th>\n",
       "      <th></th>\n",
       "      <th></th>\n",
       "      <th></th>\n",
       "      <th></th>\n",
       "      <th></th>\n",
       "      <th></th>\n",
       "    </tr>\n",
       "  </thead>\n",
       "  <tbody>\n",
       "    <tr>\n",
       "      <th>2016-01-05</th>\n",
       "      <td>-0.006334</td>\n",
       "      <td>0.010055</td>\n",
       "      <td>0.008554</td>\n",
       "      <td>-0.017290</td>\n",
       "      <td>-0.006892</td>\n",
       "      <td>-0.013472</td>\n",
       "    </tr>\n",
       "    <tr>\n",
       "      <th>2016-01-06</th>\n",
       "      <td>-0.011376</td>\n",
       "      <td>0.012297</td>\n",
       "      <td>-0.017403</td>\n",
       "      <td>-0.013985</td>\n",
       "      <td>-0.004957</td>\n",
       "      <td>-0.010242</td>\n",
       "    </tr>\n",
       "    <tr>\n",
       "      <th>2016-01-07</th>\n",
       "      <td>-0.010515</td>\n",
       "      <td>-0.011885</td>\n",
       "      <td>-0.005060</td>\n",
       "      <td>-0.014336</td>\n",
       "      <td>-0.014518</td>\n",
       "      <td>0.007186</td>\n",
       "    </tr>\n",
       "    <tr>\n",
       "      <th>2016-01-08</th>\n",
       "      <td>-0.002707</td>\n",
       "      <td>0.004737</td>\n",
       "      <td>-0.003889</td>\n",
       "      <td>-0.004642</td>\n",
       "      <td>0.004911</td>\n",
       "      <td>0.013699</td>\n",
       "    </tr>\n",
       "    <tr>\n",
       "      <th>2016-01-11</th>\n",
       "      <td>-0.010052</td>\n",
       "      <td>-0.006939</td>\n",
       "      <td>-0.010287</td>\n",
       "      <td>0.005130</td>\n",
       "      <td>-0.011785</td>\n",
       "      <td>0.006475</td>\n",
       "    </tr>\n",
       "    <tr>\n",
       "      <th>...</th>\n",
       "      <td>...</td>\n",
       "      <td>...</td>\n",
       "      <td>...</td>\n",
       "      <td>...</td>\n",
       "      <td>...</td>\n",
       "      <td>...</td>\n",
       "    </tr>\n",
       "    <tr>\n",
       "      <th>2018-12-24</th>\n",
       "      <td>-0.031485</td>\n",
       "      <td>-0.023837</td>\n",
       "      <td>-0.023111</td>\n",
       "      <td>-0.039567</td>\n",
       "      <td>-0.035735</td>\n",
       "      <td>-0.006997</td>\n",
       "    </tr>\n",
       "    <tr>\n",
       "      <th>2018-12-26</th>\n",
       "      <td>-0.013033</td>\n",
       "      <td>-0.026096</td>\n",
       "      <td>-0.017288</td>\n",
       "      <td>-0.012801</td>\n",
       "      <td>-0.004623</td>\n",
       "      <td>0.000979</td>\n",
       "    </tr>\n",
       "    <tr>\n",
       "      <th>2018-12-27</th>\n",
       "      <td>0.017136</td>\n",
       "      <td>0.019953</td>\n",
       "      <td>0.018426</td>\n",
       "      <td>0.010593</td>\n",
       "      <td>0.030964</td>\n",
       "      <td>0.000000</td>\n",
       "    </tr>\n",
       "    <tr>\n",
       "      <th>2018-12-28</th>\n",
       "      <td>0.028444</td>\n",
       "      <td>0.044666</td>\n",
       "      <td>0.038458</td>\n",
       "      <td>0.016626</td>\n",
       "      <td>0.046553</td>\n",
       "      <td>0.026398</td>\n",
       "    </tr>\n",
       "    <tr>\n",
       "      <th>2018-12-31</th>\n",
       "      <td>-0.004326</td>\n",
       "      <td>0.008037</td>\n",
       "      <td>-0.007792</td>\n",
       "      <td>0.004622</td>\n",
       "      <td>0.001025</td>\n",
       "      <td>0.009907</td>\n",
       "    </tr>\n",
       "  </tbody>\n",
       "</table>\n",
       "<p>753 rows × 6 columns</p>\n",
       "</div>"
      ],
      "text/plain": [
       "Symbols          ACN       NOC       IBM       MSI      MSCI       ORA\n",
       "Date                                                                  \n",
       "2016-01-05 -0.006334  0.010055  0.008554 -0.017290 -0.006892 -0.013472\n",
       "2016-01-06 -0.011376  0.012297 -0.017403 -0.013985 -0.004957 -0.010242\n",
       "2016-01-07 -0.010515 -0.011885 -0.005060 -0.014336 -0.014518  0.007186\n",
       "2016-01-08 -0.002707  0.004737 -0.003889 -0.004642  0.004911  0.013699\n",
       "2016-01-11 -0.010052 -0.006939 -0.010287  0.005130 -0.011785  0.006475\n",
       "...              ...       ...       ...       ...       ...       ...\n",
       "2018-12-24 -0.031485 -0.023837 -0.023111 -0.039567 -0.035735 -0.006997\n",
       "2018-12-26 -0.013033 -0.026096 -0.017288 -0.012801 -0.004623  0.000979\n",
       "2018-12-27  0.017136  0.019953  0.018426  0.010593  0.030964  0.000000\n",
       "2018-12-28  0.028444  0.044666  0.038458  0.016626  0.046553  0.026398\n",
       "2018-12-31 -0.004326  0.008037 -0.007792  0.004622  0.001025  0.009907\n",
       "\n",
       "[753 rows x 6 columns]"
      ]
     },
     "metadata": {},
     "output_type": "display_data"
    }
   ],
   "source": [
    "companyName = ['ACN', 'NOC', 'IBM', 'MSI', 'MSCI', 'ORA']\n",
    "startDate = '2016-01-01'\n",
    "endDate = '2018-12-31'\n",
    "\n",
    "historicalValues = data.DataReader(companyName, 'yahoo', startDate, endDate)\n",
    "stockValues = historicalValues['Open']\n",
    "numOfDates = stockValues.shape[0]\n",
    "numSecurities = stockValues.shape[1]\n",
    "stockValues = stockValues.fillna(method='ffill')\n",
    "\n",
    "numPeriods = numOfDates - 1\n",
    "stockValuesArray = pd.DataFrame(stockValues).to_numpy()\n",
    "secReturns = np.empty(shape = (numPeriods, numSecurities))\n",
    "for i in range(numSecurities):\n",
    "    for j in range(numPeriods):\n",
    "        secReturns[j][i] = (stockValuesArray[j+1][i]-stockValuesArray[j][i])/stockValuesArray[j][i]\n",
    "returnDates = stockValues.index[1:]\n",
    "stockReturns = pd.DataFrame(secReturns, index=returnDates, columns=stockValues.columns) \n",
    "print(\"============  Stock Returns  ============ \\n\")\n",
    "display(stockReturns)"
   ]
  },
  {
   "cell_type": "markdown",
   "metadata": {},
   "source": [
    "### Market Index Input Data\n",
    "\n",
    "The same process is followed for the market index. In this case we select the NASDAQ Composite index (^IXIC) because the seleted securities belong to NASDAQ stock exchange. Therefore, we calculate the returns of the market index for the selected time horizon."
   ]
  },
  {
   "cell_type": "code",
   "execution_count": 3,
   "metadata": {
    "scrolled": true
   },
   "outputs": [
    {
     "data": {
      "text/plain": [
       "Date\n",
       "2016-01-04    4582.049805\n",
       "2016-01-05    4573.540039\n",
       "2016-01-06    4528.120117\n",
       "2016-01-07    4346.100098\n",
       "2016-01-08    4404.180176\n",
       "                 ...     \n",
       "2018-12-21    4672.770020\n",
       "2018-12-24    4650.419922\n",
       "2018-12-27    4689.200195\n",
       "2018-12-28    4641.049805\n",
       "2018-12-31    4708.740234\n",
       "Name: Open, Length: 767, dtype: float64"
      ]
     },
     "metadata": {},
     "output_type": "display_data"
    },
    {
     "name": "stdout",
     "output_type": "stream",
     "text": [
      "============  Stock Returns  ============ \n",
      "\n"
     ]
    },
    {
     "data": {
      "text/html": [
       "<div>\n",
       "<style scoped>\n",
       "    .dataframe tbody tr th:only-of-type {\n",
       "        vertical-align: middle;\n",
       "    }\n",
       "\n",
       "    .dataframe tbody tr th {\n",
       "        vertical-align: top;\n",
       "    }\n",
       "\n",
       "    .dataframe thead th {\n",
       "        text-align: right;\n",
       "    }\n",
       "</style>\n",
       "<table border=\"1\" class=\"dataframe\">\n",
       "  <thead>\n",
       "    <tr style=\"text-align: right;\">\n",
       "      <th></th>\n",
       "      <th>0</th>\n",
       "    </tr>\n",
       "    <tr>\n",
       "      <th>Date</th>\n",
       "      <th></th>\n",
       "    </tr>\n",
       "  </thead>\n",
       "  <tbody>\n",
       "    <tr>\n",
       "      <th>2016-01-05</th>\n",
       "      <td>-0.001857</td>\n",
       "    </tr>\n",
       "    <tr>\n",
       "      <th>2016-01-06</th>\n",
       "      <td>-0.009931</td>\n",
       "    </tr>\n",
       "    <tr>\n",
       "      <th>2016-01-07</th>\n",
       "      <td>-0.040198</td>\n",
       "    </tr>\n",
       "    <tr>\n",
       "      <th>2016-01-08</th>\n",
       "      <td>0.013364</td>\n",
       "    </tr>\n",
       "    <tr>\n",
       "      <th>2016-01-11</th>\n",
       "      <td>-0.016114</td>\n",
       "    </tr>\n",
       "    <tr>\n",
       "      <th>...</th>\n",
       "      <td>...</td>\n",
       "    </tr>\n",
       "    <tr>\n",
       "      <th>2018-12-24</th>\n",
       "      <td>-0.014793</td>\n",
       "    </tr>\n",
       "    <tr>\n",
       "      <th>2018-12-26</th>\n",
       "      <td>-0.014646</td>\n",
       "    </tr>\n",
       "    <tr>\n",
       "      <th>2018-12-27</th>\n",
       "      <td>-0.013062</td>\n",
       "    </tr>\n",
       "    <tr>\n",
       "      <th>2018-12-28</th>\n",
       "      <td>-0.017298</td>\n",
       "    </tr>\n",
       "    <tr>\n",
       "      <th>2018-12-31</th>\n",
       "      <td>-0.003262</td>\n",
       "    </tr>\n",
       "  </tbody>\n",
       "</table>\n",
       "<p>753 rows × 1 columns</p>\n",
       "</div>"
      ],
      "text/plain": [
       "                   0\n",
       "Date                \n",
       "2016-01-05 -0.001857\n",
       "2016-01-06 -0.009931\n",
       "2016-01-07 -0.040198\n",
       "2016-01-08  0.013364\n",
       "2016-01-11 -0.016114\n",
       "...              ...\n",
       "2018-12-24 -0.014793\n",
       "2018-12-26 -0.014646\n",
       "2018-12-27 -0.013062\n",
       "2018-12-28 -0.017298\n",
       "2018-12-31 -0.003262\n",
       "\n",
       "[753 rows x 1 columns]"
      ]
     },
     "metadata": {},
     "output_type": "display_data"
    }
   ],
   "source": [
    "historicalValues = data.DataReader('^FCHI', 'yahoo', startDate, endDate)\n",
    "indexValues = historicalValues['Open']\n",
    "numOfDates = stockValues.shape[0]\n",
    "indexValues = indexValues.fillna(method='ffill')\n",
    "display(indexValues)\n",
    "\n",
    "numPeriods = numOfDates - 1\n",
    "indexValuesArray = pd.DataFrame(indexValues).to_numpy()\n",
    "marketReturns = np.empty(shape = (numPeriods))\n",
    "for j in range(numPeriods):\n",
    "    marketReturns[j] = (indexValuesArray[j+1]-indexValuesArray[j])/indexValuesArray[j]\n",
    "indexReturns = pd.DataFrame(marketReturns, index=returnDates) \n",
    "print(\"============  Stock Returns  ============ \\n\")\n",
    "display(indexReturns)\n"
   ]
  },
  {
   "cell_type": "markdown",
   "metadata": {},
   "source": [
    "### Multiobjective Function\n",
    "\n",
    "In this point, we define the multiobjective function losses, which is about to be optimised. This function calculates the number of times that the portfolio return is smaller than the selected marfket index return for all dates during the selected time period. This function needs to be minimised, as the target is to maximise the number of times that the portfolio offers a better return."
   ]
  },
  {
   "cell_type": "code",
   "execution_count": 4,
   "metadata": {},
   "outputs": [],
   "source": [
    "def losses(x):\n",
    "    losingTimes = 0\n",
    "    portfReturn = [0 for i in range(numPeriods)]\n",
    "    for i in range(numPeriods):    \n",
    "        for j in range(numSecurities):\n",
    "            portfReturn[i] += x[j] * secReturns[i][j]\n",
    "        if portfReturn[i] < marketReturns[i]:\n",
    "            losingTimes += 1            \n",
    "    return losingTimes"
   ]
  },
  {
   "cell_type": "markdown",
   "metadata": {},
   "source": [
    "Finally, the function differential_evolution solves this evolutionary problem. The list of variables bounds sets the limits for each security's percentage in the portfolio. The function LinearConstraint imposes the capital completeness constraint. The parameters of the model are the following (according to the scipy documentation):\n",
    "\n",
    "* maxiter: The maximum number of generations over which the entire population is evolved.\n",
    "* popsizeint: A multiplier for setting the total population size. The population has popsize * len(x) individuals.\n",
    "* mutation: The mutation constant. In the literature this is also known as differential weight, being denoted by F.\n",
    "* recombinationfloat: The recombination constant, should be in the range [0, 1]. Also known as the crossover probability, being denoted by CR. Increasing this value allows a larger number of mutants to progress into the next generation, but at the risk of population stability."
   ]
  },
  {
   "cell_type": "code",
   "execution_count": 5,
   "metadata": {},
   "outputs": [
    {
     "name": "stderr",
     "output_type": "stream",
     "text": [
      "/home/elissaios/anaconda3/lib/python3.7/site-packages/scipy/optimize/_differentialevolution.py:812: UserWarning: differential evolution didn't find a solution satisfying the constraints, attempting to polish from the least infeasible solution\n",
      "  \" infeasible solution\", UserWarning)\n",
      "/home/elissaios/anaconda3/lib/python3.7/site-packages/scipy/optimize/_hessian_update_strategy.py:187: UserWarning: delta_grad == 0.0. Check if the approximated function is linear. If the function is linear better results can be obtained by defining the Hessian as zero instead of using quasi-Newton approximations.\n",
      "  'approximations.', UserWarning)\n"
     ]
    },
    {
     "name": "stdout",
     "output_type": "stream",
     "text": [
      "ACN :  0.2115\n",
      "NOC :  0.1565\n",
      "IBM :  0.1265\n",
      "MSI :  0.2572\n",
      "MSCI :  0.125\n",
      "ORA :  0.1233\n",
      "Percentage that portfolio beats the index: 0.5179282868525896\n"
     ]
    },
    {
     "data": {
      "image/png": "[encoded data removed]",
      "text/plain": [
       "<Figure size 1152x648 with 1 Axes>"
      ]
     },
     "metadata": {
      "needs_background": "light"
     },
     "output_type": "display_data"
    }
   ],
   "source": [
    "bounds = [(0,1) for i in range(numSecurities)]\n",
    "constraints = LinearConstraint(np.ones(numSecurities), 1, 1)\n",
    "result = differential_evolution(losses, bounds, maxiter=10, polish=True, popsize=30, mutation=1.95,\n",
    "                                updating='deferred', recombination=0.9, constraints=constraints)\n",
    "\n",
    "for i in range(numSecurities):\n",
    "    print(companyName[i],\": \", np.round(result.x[i],4))\n",
    "print(\"Percentage that portfolio beats the index:\", (numPeriods-result.fun)/numPeriods)\n",
    "\n",
    "plt.figure(figsize=(16,9))\n",
    "plt.bar(companyName, result.x, color = 'lightblue', edgecolor = 'black', width=0.6)\n",
    "plt.xlabel(r\"Securities\", fontsize=22)\n",
    "plt.ylabel(r\"Portfolio Percentage\", fontsize=22)\n",
    "plt.title(r\"Genetic Algorithm Portfolio\", fontsize=28)\n",
    "plt.xticks(fontsize=18, rotation=0)\n",
    "plt.savefig(\"barplot13.png\", dpi=300)"
   ]
  }
 ],
 "metadata": {
  "kernelspec": {
   "display_name": "Python 3",
   "language": "python",
   "name": "python3"
  },
  "language_info": {
   "codemirror_mode": {
    "name": "ipython",
    "version": 3
   },
   "file_extension": ".py",
   "mimetype": "text/x-python",
   "name": "python",
   "nbconvert_exporter": "python",
   "pygments_lexer": "ipython3",
   "version": "3.7.4"
  }
 },
 "nbformat": 4,
 "nbformat_minor": 2
}
